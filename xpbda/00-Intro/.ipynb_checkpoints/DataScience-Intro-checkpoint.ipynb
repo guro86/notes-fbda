{
 "cells": [
  {
   "cell_type": "markdown",
   "metadata": {},
   "source": [
    "# Data Science"
   ]
  },
  {
   "cell_type": "markdown",
   "metadata": {},
   "source": [
    "## What?"
   ]
  },
  {
   "cell_type": "markdown",
   "metadata": {},
   "source": [
    "* Why is this compulsary for everyone?\n",
    "    * =--\n",
    "    \n",
    "    \n",
    "* What do we get from each module?\n",
    "    * Who is this aimed at?\n",
    "    \n",
    "* What am i doing here?\n",
    "    * nihilism + lithium\n",
    "    \n",
    "* What does a data scientist do?\n",
    "    * \n",
    "    * Uses data to buiild models (usually statistical)\n",
    "\n",
    "* Why do they do it?\n",
    "    * Business Value \n",
    "    * predict, infer, conclude, model\n",
    "\n",
    "* What does a data science adjacent do?\n",
    "    * Data Scientist\n",
    "    \n",
    "    * Data Analyst\n",
    "        * historical, fact-based analysis\n",
    "        \n",
    "    * Data Engineer\n",
    "        * routing data \n",
    "        \n",
    "    * Researcher (almost Data Scientist)\n",
    "        * Machine Learning\n",
    "            * PhD solving novel problems\n",
    "            \n",
    "        * EDAr + Solving Novel Problem\n",
    "        \n",
    "    * Project Manager\n",
    "    * Software Engineer\n",
    "    * Business Analyst\n",
    "    * Technical Architect\n",
    "    * Line Manager\n",
    "    * Client\n",
    "    \n",
    "* What does a data science team look like?"
   ]
  },
  {
   "cell_type": "markdown",
   "metadata": {},
   "source": [
    "# What is the Methodology of Data Science?"
   ]
  },
  {
   "cell_type": "markdown",
   "metadata": {},
   "source": [
    "0. Failure \n",
    "    * environment fails to look like current predictive models\n",
    "    \n",
    "1. Identify the Problem\n",
    "2. Seek info about problem \n",
    "3. Get the data\n",
    "4. Explore the data (visualization)\n",
    "5. Reform/Clean/Transform/Process\n",
    "6. Explore again\n",
    "7. (Statistical) Model\n",
    "8. Evaluation\n",
    "    * Offline Eval\n",
    "    * Online\n",
    "9. Deploy\n",
    "    10. Running\n",
    "    10. Talk to client"
   ]
  },
  {
   "cell_type": "markdown",
   "metadata": {},
   "source": [
    "# Terms\n",
    "\n",
    "* Data = Computation Information\n",
    "* Science = Systematic, Provisional, Evnironmenal Study\n",
    "* Data Science = Data + Science + BS (Statistics)\n",
    "* Probability = Quantifying Uncertainty\n",
    "* Statistics is Probability + Prediction + Data\n",
    "* Statistics = Rules of association determined by \"mere observation\" (i.e., environment fixed during study)\n",
    "* Machine Learning = Computational Statical Inference\n",
    "* Artificial Intelligence\n",
    "    - General AI = Reporducing Animal Intelligence, Artifically\n",
    "        * Causally model enviornment\n",
    "        \n",
    "    - \"Pragmatic AI\"\n",
    "        * if / else\n",
    "        \n",
    "        * the best decision making system we have\n",
    "        - 40s: AI = if else\n",
    "        - 80s: if else + expert\n",
    "        - 00s: ML\n",
    "        - 10s: Deep Neural Networks\n",
    "        "
   ]
  },
  {
   "cell_type": "markdown",
   "metadata": {},
   "source": [
    "# Python Data Science"
   ]
  },
  {
   "cell_type": "code",
   "execution_count": 2,
   "metadata": {},
   "outputs": [
    {
     "name": "stdout",
     "output_type": "stream",
     "text": [
      "Hello World!\n"
     ]
    }
   ],
   "source": [
    "print(\"Hello World!\")"
   ]
  }
 ],
 "metadata": {
  "kernelspec": {
   "display_name": "Python 3",
   "language": "python",
   "name": "python3"
  },
  "language_info": {
   "codemirror_mode": {
    "name": "ipython",
    "version": 3
   },
   "file_extension": ".py",
   "mimetype": "text/x-python",
   "name": "python",
   "nbconvert_exporter": "python",
   "pygments_lexer": "ipython3",
   "version": "3.6.6"
  }
 },
 "nbformat": 4,
 "nbformat_minor": 2
}
