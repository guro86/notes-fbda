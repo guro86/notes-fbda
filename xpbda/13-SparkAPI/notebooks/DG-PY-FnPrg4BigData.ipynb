{
 "cells": [
  {
   "cell_type": "markdown",
   "metadata": {},
   "source": [
    "# Python: Functional Programming for Big Data"
   ]
  },
  {
   "cell_type": "markdown",
   "metadata": {},
   "source": [
    "## Why Functional Programming?\n",
    "* Mathematics\n",
    "    * Transformations\n",
    "    * Operators\n",
    "        * Calculus: Integrals, Derivatives\n",
    "        * Probability: Predicates (over Sets)\n",
    "        * Linear Algebra: Vectorization\n",
    "        * Statistics: Expectations, ...\n",
    "        \n",
    "        \n",
    "* Analytics\n",
    "    * Spark\n",
    "    * Hadoop"
   ]
  },
  {
   "cell_type": "markdown",
   "metadata": {},
   "source": [
    "## Prelude: Functional Programming\n",
    "\n",
    "* functions\n",
    "* higher-order functions\n",
    "* combinators\n",
    "\n",
    "\n",
    "* working with functions\n",
    "    * using python's object model\n",
    "    * lifting    \n",
    "    * partial application\n",
    "    * currying \n"
   ]
  },
  {
   "cell_type": "markdown",
   "metadata": {},
   "source": [
    "## Functions are Values"
   ]
  },
  {
   "cell_type": "code",
   "execution_count": 1,
   "metadata": {},
   "outputs": [],
   "source": [
    "from functools import *"
   ]
  },
  {
   "cell_type": "code",
   "execution_count": 20,
   "metadata": {},
   "outputs": [
    {
     "data": {
      "text/plain": [
       "<function __main__.f(x)>"
      ]
     },
     "execution_count": 20,
     "metadata": {},
     "output_type": "execute_result"
    }
   ],
   "source": [
    "f"
   ]
  },
  {
   "cell_type": "code",
   "execution_count": 19,
   "metadata": {},
   "outputs": [
    {
     "data": {
      "text/plain": [
       "20"
      ]
     },
     "execution_count": 19,
     "metadata": {},
     "output_type": "execute_result"
    }
   ],
   "source": [
    "f(10)"
   ]
  },
  {
   "cell_type": "code",
   "execution_count": 2,
   "metadata": {},
   "outputs": [
    {
     "data": {
      "text/plain": [
       "(10, 20)"
      ]
     },
     "execution_count": 2,
     "metadata": {},
     "output_type": "execute_result"
    }
   ],
   "source": [
    "def f(x):\n",
    "    return x * 2\n",
    "\n",
    "\n",
    "g = f\n",
    "\n",
    "g(5), f(10)"
   ]
  },
  {
   "cell_type": "code",
   "execution_count": 17,
   "metadata": {},
   "outputs": [
    {
     "name": "stdout",
     "output_type": "stream",
     "text": [
      "6\n"
     ]
    }
   ],
   "source": [
    "def calc(f):\n",
    "    print(f([1, 2, 3]))\n",
    "    \n",
    "calc(sum)"
   ]
  },
  {
   "cell_type": "markdown",
   "metadata": {},
   "source": [
    "* combinators:\n",
    "    - function that takes a function, and uses it to \"recombine\" data"
   ]
  },
  {
   "cell_type": "code",
   "execution_count": 2,
   "metadata": {},
   "outputs": [],
   "source": [
    "# List[String] -> List[Int] via f: String -> Int\n",
    "#  C[A] -> C[B] via f: A ->B\n",
    "def _map(f, data):\n",
    "    return [ f(d) for d in data ]\n",
    "\n",
    "def double(x):\n",
    "    return x * 2"
   ]
  },
  {
   "cell_type": "code",
   "execution_count": 4,
   "metadata": {},
   "outputs": [
    {
     "name": "stdout",
     "output_type": "stream",
     "text": [
      "[4, 8, 12]\n",
      "[['Michael', 'Burgess'], ['Kunal', 'Haria']]\n"
     ]
    }
   ],
   "source": [
    "print( _map(double, [2, 4, 6]) )\n",
    "print( _map(str.split, [\"Michael Burgess\", \"Kunal Haria\"]) )"
   ]
  },
  {
   "cell_type": "code",
   "execution_count": 29,
   "metadata": {},
   "outputs": [],
   "source": [
    "# idea: the function produces containers, de-nest that \n",
    "# List[String] -> List[String], via .split : String -> List[String]\n",
    "# C[A] -> C[B] via f: A -> C[B]\n",
    "def _flatMap(f, data):\n",
    "    old = _map(f, data)\n",
    "    new = []\n",
    "    for e in old :\n",
    "        for piece in e:\n",
    "            new.append(piece)\n",
    "    \n",
    "    return new"
   ]
  },
  {
   "cell_type": "code",
   "execution_count": null,
   "metadata": {},
   "outputs": [],
   "source": [
    "print( _flatMap(str.split, [\"Michael Burgess\", \"Kunal Haria\"]) )"
   ]
  },
  {
   "cell_type": "code",
   "execution_count": 30,
   "metadata": {},
   "outputs": [
    {
     "name": "stdout",
     "output_type": "stream",
     "text": [
      "6\n",
      "MichaelKunal\n",
      "True\n",
      "False\n",
      "0\n",
      "6\n"
     ]
    }
   ],
   "source": [
    "# C[O] -> N  via f: (total: N, e: O)\n",
    "def _reduce(f, start, data):\n",
    "    total = start\n",
    "    for e in data:\n",
    "        total = f(total, e)\n",
    "\n",
    "    return total\n",
    "\n",
    "ages = [18, 19]\n",
    "prices = [1, 2, 3]\n",
    "\n",
    "print(_reduce(int.__add__,   0, [1, 2, 3]))\n",
    "print(_reduce(str.__add__,   \"\", [\"Michael\", \"Kunal\"]))\n",
    "print(_reduce(bool.__or__,   False, [ages[0] == 18, ages[1] > 20]))\n",
    "print(_reduce(bool.__and__,  True, [ages[0] == 18, ages[1] > 20]))\n",
    "\n",
    "print(_reduce(int.__mul__, 0, prices))\n",
    "print(_reduce(int.__mul__, 1, prices))"
   ]
  },
  {
   "cell_type": "code",
   "execution_count": 9,
   "metadata": {},
   "outputs": [],
   "source": [
    "def _filter(test, data):\n",
    "    new = []\n",
    "    for e in data:\n",
    "        if test(e):\n",
    "            new.append(e)\n",
    "            \n",
    "    return new"
   ]
  },
  {
   "cell_type": "code",
   "execution_count": 51,
   "metadata": {},
   "outputs": [
    {
     "data": {
      "text/plain": [
       "6"
      ]
     },
     "execution_count": 51,
     "metadata": {},
     "output_type": "execute_result"
    }
   ],
   "source": []
  },
  {
   "cell_type": "markdown",
   "metadata": {},
   "source": [
    "## Exercise Questions\n",
    "\n",
    "* Using python's in-built combinators, start with a list of strings, and produce:\n",
    "\n",
    "    * a list of bools whether there is data or not\n",
    "    * a list of string lengths\n",
    "    * a list of string lengths more than 5\n",
    "    * a list of words in each initial string (.split)\n",
    "    * a list of words in each initial string where each set of words is > 2"
   ]
  },
  {
   "cell_type": "code",
   "execution_count": 23,
   "metadata": {},
   "outputs": [
    {
     "name": "stdout",
     "output_type": "stream",
     "text": [
      "[True, True, False]\n",
      "['Michael B', 'Here World Is agooads']\n"
     ]
    }
   ],
   "source": [
    "names = [\"Michael B\", \"Here World Is agooads\", \"\"]\n",
    "# solution to first question \n",
    "print(list(map(bool, names)))\n",
    "\n",
    "# solution to third question\n",
    "def is_morethan_5(string):\n",
    "    return len(string) > 5\n",
    "\n",
    "print(list(filter(is_morethan_5, names)))"
   ]
  },
  {
   "cell_type": "markdown",
   "metadata": {},
   "source": [
    "## Python Tips"
   ]
  },
  {
   "cell_type": "markdown",
   "metadata": {},
   "source": [
    "* Layout"
   ]
  },
  {
   "cell_type": "code",
   "execution_count": 26,
   "metadata": {},
   "outputs": [
    {
     "data": {
      "text/plain": [
       "['MICHAEL', 'JOHN', 'BURGESS']"
      ]
     },
     "execution_count": 26,
     "metadata": {},
     "output_type": "execute_result"
    }
   ],
   "source": [
    "list(\n",
    "    map( \n",
    "        lambda s: s.upper(),  \n",
    "        [\"Michael\", \"John\", \"Burgess\"]\n",
    "    )\n",
    ")"
   ]
  },
  {
   "cell_type": "markdown",
   "metadata": {},
   "source": [
    "* Lambda"
   ]
  },
  {
   "cell_type": "code",
   "execution_count": 25,
   "metadata": {},
   "outputs": [
    {
     "data": {
      "text/plain": [
       "[True, True, False]"
      ]
     },
     "execution_count": 25,
     "metadata": {},
     "output_type": "execute_result"
    }
   ],
   "source": [
    "def f(s):\n",
    "    return len(s) > 2\n",
    "\n",
    "\n",
    "list(map(lambda s: len(s) > 2, names))"
   ]
  },
  {
   "cell_type": "code",
   "execution_count": 21,
   "metadata": {},
   "outputs": [
    {
     "data": {
      "text/plain": [
       "<__main__.API at 0x10d7e3860>"
      ]
     },
     "execution_count": 21,
     "metadata": {},
     "output_type": "execute_result"
    }
   ],
   "source": [
    "class API:\n",
    "    map = reduce = filter = lambda s: s\n",
    " \n",
    "eg = API()\n",
    "\n",
    "( eg\n",
    "   .map()\n",
    "   .reduce()\n",
    "   .filter()\n",
    "   .map()\n",
    "   .reduce()\n",
    ")"
   ]
  },
  {
   "cell_type": "code",
   "execution_count": 75,
   "metadata": {
    "jupyter": {
     "source_hidden": true
    }
   },
   "outputs": [
    {
     "data": {
      "text/plain": [
       "2"
      ]
     },
     "execution_count": 75,
     "metadata": {},
     "output_type": "execute_result"
    }
   ],
   "source": [
    "(1 + \n",
    "1)"
   ]
  },
  {
   "cell_type": "code",
   "execution_count": 27,
   "metadata": {},
   "outputs": [
    {
     "data": {
      "text/plain": [
       "['MICHAEL', 'KUNAL']"
      ]
     },
     "execution_count": 27,
     "metadata": {},
     "output_type": "execute_result"
    }
   ],
   "source": [
    "class Person:\n",
    "    def say(self, name):\n",
    "        return name.upper()\n",
    "    \n",
    "me = Person()\n",
    "list(map(me.say, [\"Michael\", \"Kunal\"]))"
   ]
  },
  {
   "cell_type": "markdown",
   "metadata": {},
   "source": [
    "## Functional Programming for Mathematics"
   ]
  },
  {
   "cell_type": "markdown",
   "metadata": {},
   "source": [
    "## Key Elements of Spark's API\n",
    "\n",
    "### Transformations\n",
    "* map\n",
    "* reduce\n",
    "* filter\n",
    "* flatMap\n",
    "* fold\n",
    "\n",
    "### Actions\n",
    "* take\n",
    "* collect\n",
    "* show\n",
    "\n",
    "### Uses\n",
    "* projection maps\n",
    "* aggregating reduces"
   ]
  },
  {
   "cell_type": "markdown",
   "metadata": {},
   "source": [
    "### Aproximating Hadoop's MapReduce"
   ]
  },
  {
   "cell_type": "markdown",
   "metadata": {},
   "source": [
    "* Our hadoop MapReduce query (/ \"job\")"
   ]
  },
  {
   "cell_type": "code",
   "execution_count": null,
   "metadata": {},
   "outputs": [],
   "source": [
    "def mapper(line):\n",
    "    for word in line.split(\" \"):\n",
    "        yield (word.lower(), 1)\n",
    "\n",
    "def reducer(pair):\n",
    "    key, value = pair\n",
    "    yield (key, sum(value))"
   ]
  },
  {
   "cell_type": "markdown",
   "metadata": {},
   "source": [
    "* Bridging step\n",
    "    * ie., things needed to simulate hadoop"
   ]
  },
  {
   "cell_type": "code",
   "execution_count": 1,
   "metadata": {},
   "outputs": [],
   "source": [
    "from functools import reduce\n",
    "\n",
    "def _combine(data, values):\n",
    "    for (k, v) in values:\n",
    "        data[k].append(v)\n",
    "    return data"
   ]
  },
  {
   "cell_type": "markdown",
   "metadata": {},
   "source": [
    "* The hadoop job running..."
   ]
  },
  {
   "cell_type": "code",
   "execution_count": null,
   "metadata": {},
   "outputs": [],
   "source": [
    "\n",
    "data = [\"hello world\", \"goodbye world\"]\n",
    "\n",
    "# map-side\n",
    "mapped   = map(mapper, data))\n",
    "combined = reduce(_combine, mapped, defaultdict(list))\n",
    "\n",
    "# reduce-side\n",
    "reduced  = map(reducer, combined.items())\n",
    "\n",
    "# report\n",
    "print([next(result) for result in reduced])"
   ]
  }
 ],
 "metadata": {
  "kernelspec": {
   "display_name": "Python 3",
   "language": "python",
   "name": "python3"
  },
  "language_info": {
   "codemirror_mode": {
    "name": "ipython",
    "version": 3
   },
   "file_extension": ".py",
   "mimetype": "text/x-python",
   "name": "python",
   "nbconvert_exporter": "python",
   "pygments_lexer": "ipython3",
   "version": "3.7.3"
  }
 },
 "nbformat": 4,
 "nbformat_minor": 4
}
