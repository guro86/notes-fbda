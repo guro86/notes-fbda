{
 "cells": [
  {
   "cell_type": "code",
   "execution_count": 1,
   "metadata": {},
   "outputs": [],
   "source": [
    "!pip install --upgrade -q networkx"
   ]
  },
  {
   "cell_type": "code",
   "execution_count": 2,
   "metadata": {},
   "outputs": [],
   "source": [
    "!pip install -q pydot"
   ]
  },
  {
   "cell_type": "markdown",
   "metadata": {},
   "source": [
    "# Graph Analytics"
   ]
  },
  {
   "cell_type": "markdown",
   "metadata": {},
   "source": [
    "## Representing Graphs"
   ]
  },
  {
   "cell_type": "markdown",
   "metadata": {},
   "source": [
    "$graph = \\{(u, v, w), \\dots \\}$\n"
   ]
  },
  {
   "cell_type": "code",
   "execution_count": 3,
   "metadata": {},
   "outputs": [],
   "source": [
    "from random import randint "
   ]
  },
  {
   "cell_type": "code",
   "execution_count": 4,
   "metadata": {},
   "outputs": [],
   "source": [
    "rw = lambda : {'likes': randint(0, 5) }"
   ]
  },
  {
   "cell_type": "code",
   "execution_count": 5,
   "metadata": {},
   "outputs": [],
   "source": [
    "people = range(4)\n",
    "\n",
    "edges = [\n",
    "    (u, v, rw()) for u in people for v in people if u != v\n",
    "] "
   ]
  },
  {
   "cell_type": "code",
   "execution_count": 6,
   "metadata": {},
   "outputs": [
    {
     "data": {
      "text/plain": [
       "[(0, 1, {'likes': 2}),\n",
       " (0, 2, {'likes': 3}),\n",
       " (0, 3, {'likes': 3}),\n",
       " (1, 0, {'likes': 0}),\n",
       " (1, 2, {'likes': 1}),\n",
       " (1, 3, {'likes': 3}),\n",
       " (2, 0, {'likes': 4}),\n",
       " (2, 1, {'likes': 0}),\n",
       " (2, 3, {'likes': 1}),\n",
       " (3, 0, {'likes': 2}),\n",
       " (3, 1, {'likes': 2}),\n",
       " (3, 2, {'likes': 0})]"
      ]
     },
     "execution_count": 6,
     "metadata": {},
     "output_type": "execute_result"
    }
   ],
   "source": [
    "edges"
   ]
  },
  {
   "cell_type": "code",
   "execution_count": 7,
   "metadata": {},
   "outputs": [
    {
     "name": "stdout",
     "output_type": "stream",
     "text": [
      "alice->eve\n",
      "alice->bob\n",
      "alice->dan\n",
      "eve->alice\n",
      "eve->bob\n",
      "eve->dan\n",
      "bob->alice\n",
      "bob->eve\n",
      "bob->dan\n",
      "dan->alice\n",
      "dan->eve\n",
      "dan->bob\n"
     ]
    }
   ],
   "source": [
    "names = ['alice', 'eve', 'bob', 'dan']\n",
    "print(*[ names[u_id] + \"->\" + names[v_id] for (u_id, v_id, _) in edges], sep='\\n')"
   ]
  },
  {
   "cell_type": "code",
   "execution_count": 8,
   "metadata": {},
   "outputs": [],
   "source": [
    "import networkx as nx"
   ]
  },
  {
   "cell_type": "code",
   "execution_count": 9,
   "metadata": {},
   "outputs": [],
   "source": [
    "G = nx.from_edgelist(edges, nx.DiGraph)"
   ]
  },
  {
   "cell_type": "code",
   "execution_count": 10,
   "metadata": {},
   "outputs": [
    {
     "data": {
      "text/plain": [
       "networkx.classes.digraph.DiGraph"
      ]
     },
     "execution_count": 10,
     "metadata": {},
     "output_type": "execute_result"
    }
   ],
   "source": [
    "type(G)"
   ]
  },
  {
   "cell_type": "code",
   "execution_count": 11,
   "metadata": {},
   "outputs": [],
   "source": [
    "nx.draw(G, with_labels=True);"
   ]
  },
  {
   "cell_type": "code",
   "execution_count": 14,
   "metadata": {},
   "outputs": [
    {
     "data": {
      "image/png": "[encoded data removed]",
      "text/plain": [
       "<Figure size 432x288 with 1 Axes>"
      ]
     },
     "metadata": {},
     "output_type": "display_data"
    }
   ],
   "source": [
    "pos = nx.planar_layout(G)\n",
    "\n",
    "nx.draw_networkx_edge_labels(G, pos, edge_labels={(u,v): w['likes'] for (u, v, w) in edges})\n",
    "\n",
    "nx.draw(G,pos, with_labels=True, connectionstyle='arc3, rad = 0.1')"
   ]
  },
  {
   "cell_type": "code",
   "execution_count": 43,
   "metadata": {},
   "outputs": [
    {
     "data": {
      "text/plain": [
       "[(0, 1),\n",
       " (0, 2),\n",
       " (0, 3),\n",
       " (1, 0),\n",
       " (1, 2),\n",
       " (1, 3),\n",
       " (2, 0),\n",
       " (2, 1),\n",
       " (2, 3),\n",
       " (3, 0),\n",
       " (3, 1),\n",
       " (3, 2)]"
      ]
     },
     "execution_count": 43,
     "metadata": {},
     "output_type": "execute_result"
    }
   ],
   "source": [
    "list(G.edges())"
   ]
  },
  {
   "cell_type": "code",
   "execution_count": 44,
   "metadata": {},
   "outputs": [
    {
     "data": {
      "text/plain": [
       "[(0, 1, {'likes': 2}),\n",
       " (0, 2, {'likes': 3}),\n",
       " (0, 3, {'likes': 3}),\n",
       " (1, 0, {'likes': 0}),\n",
       " (1, 2, {'likes': 1}),\n",
       " (1, 3, {'likes': 3}),\n",
       " (2, 0, {'likes': 4}),\n",
       " (2, 1, {'likes': 0}),\n",
       " (2, 3, {'likes': 1}),\n",
       " (3, 0, {'likes': 2}),\n",
       " (3, 1, {'likes': 2}),\n",
       " (3, 2, {'likes': 0})]"
      ]
     },
     "execution_count": 44,
     "metadata": {},
     "output_type": "execute_result"
    }
   ],
   "source": [
    "list(G.edges(data=True))"
   ]
  },
  {
   "cell_type": "code",
   "execution_count": 45,
   "metadata": {},
   "outputs": [
    {
     "data": {
      "text/plain": [
       "[0, 1, 2, 3]"
      ]
     },
     "execution_count": 45,
     "metadata": {},
     "output_type": "execute_result"
    }
   ],
   "source": [
    "list(G.nodes())"
   ]
  },
  {
   "cell_type": "code",
   "execution_count": 48,
   "metadata": {},
   "outputs": [
    {
     "data": {
      "text/plain": [
       "[(0, {}), (1, {}), (2, {}), (3, {})]"
      ]
     },
     "execution_count": 48,
     "metadata": {},
     "output_type": "execute_result"
    }
   ],
   "source": [
    "list(G.nodes(data=True))"
   ]
  },
  {
   "cell_type": "code",
   "execution_count": 62,
   "metadata": {},
   "outputs": [],
   "source": [
    "G.nodes[0]['team'] = 'blue'"
   ]
  },
  {
   "cell_type": "code",
   "execution_count": 63,
   "metadata": {},
   "outputs": [
    {
     "data": {
      "text/plain": [
       "[(0, {'team': 'blue'}), (1, {}), (2, {}), (3, {})]"
      ]
     },
     "execution_count": 63,
     "metadata": {},
     "output_type": "execute_result"
    }
   ],
   "source": [
    "list(G.nodes(data=True))"
   ]
  },
  {
   "cell_type": "code",
   "execution_count": 72,
   "metadata": {},
   "outputs": [],
   "source": [
    "G.update(nodes=[(n, {'team': 'blue' if n > 1 else 'red'}) for n in G.nodes()])"
   ]
  },
  {
   "cell_type": "code",
   "execution_count": 73,
   "metadata": {},
   "outputs": [
    {
     "data": {
      "text/plain": [
       "[(0, {'team': 'red'}),\n",
       " (1, {'team': 'red'}),\n",
       " (2, {'team': 'blue'}),\n",
       " (3, {'team': 'blue'})]"
      ]
     },
     "execution_count": 73,
     "metadata": {},
     "output_type": "execute_result"
    }
   ],
   "source": [
    "list(G.nodes(data=True))"
   ]
  },
  {
   "cell_type": "code",
   "execution_count": 74,
   "metadata": {},
   "outputs": [
    {
     "data": {
      "text/plain": [
       "['red', 'red', 'blue', 'blue']"
      ]
     },
     "execution_count": 74,
     "metadata": {},
     "output_type": "execute_result"
    }
   ],
   "source": [
    "[d['team'] for n, d in G.nodes(True)]"
   ]
  },
  {
   "cell_type": "code",
   "execution_count": 75,
   "metadata": {},
   "outputs": [
    {
     "data": {
      "text/plain": [
       "Counter({'red': 2, 'blue': 2})"
      ]
     },
     "execution_count": 75,
     "metadata": {},
     "output_type": "execute_result"
    }
   ],
   "source": [
    "from collections import Counter\n",
    "\n",
    "Counter([d['team'] for n, d in G.nodes(True)])"
   ]
  },
  {
   "cell_type": "markdown",
   "metadata": {},
   "source": [
    "## Graph Algorithms"
   ]
  },
  {
   "cell_type": "code",
   "execution_count": 76,
   "metadata": {},
   "outputs": [],
   "source": [
    "def minimum_node(pick_weights, included): \n",
    "    min_value = float('inf')\n",
    "    for node_index in range(len(pick_weights)): \n",
    "        if pick_weights[node_index] < min_value and node_index not in included: \n",
    "            min_value = pick_weights[node_index] \n",
    "            min_index = node_index\n",
    "\n",
    "    return min_index \n",
    "\n",
    "def mst_prim(graph): \n",
    "    N = len(graph)\n",
    "    \n",
    "    mst = [None] * N     # empty tree\n",
    "    pick_weights = [float('inf')] * N # unpickable weights\n",
    "    \n",
    "    pick_weights[0] = 0 # start with node 0\n",
    "    mst[0] = -1 # start with node 0        \n",
    "\n",
    "    included = []\n",
    "\n",
    "    for _ in range(N): \n",
    "        u = minimum_node(pick_weights, included)\n",
    "        included.append(u)\n",
    "        \n",
    "        for v in range(N):      \n",
    "            if graph[u][v] > 0 and v not in included and pick_weights[v] > graph[u][v]: \n",
    "                pick_weights[v] = graph[u][v] \n",
    "                mst[v] = u # choose u for v\n",
    "                \n",
    "    \n",
    "    # create edge list and remove dummy path (from starting at -1)\n",
    "    return list(enumerate(mst))[1:] "
   ]
  },
  {
   "cell_type": "code",
   "execution_count": 77,
   "metadata": {},
   "outputs": [
    {
     "data": {
      "text/html": [
       "<div>\n",
       "<style scoped>\n",
       "    .dataframe tbody tr th:only-of-type {\n",
       "        vertical-align: middle;\n",
       "    }\n",
       "\n",
       "    .dataframe tbody tr th {\n",
       "        vertical-align: top;\n",
       "    }\n",
       "\n",
       "    .dataframe thead th {\n",
       "        text-align: right;\n",
       "    }\n",
       "</style>\n",
       "<table border=\"1\" class=\"dataframe\">\n",
       "  <thead>\n",
       "    <tr style=\"text-align: right;\">\n",
       "      <th></th>\n",
       "      <th>edge</th>\n",
       "      <th>weight</th>\n",
       "    </tr>\n",
       "  </thead>\n",
       "  <tbody>\n",
       "    <tr>\n",
       "      <th>0</th>\n",
       "      <td>1 &lt;-&gt; 0</td>\n",
       "      <td>2</td>\n",
       "    </tr>\n",
       "    <tr>\n",
       "      <th>1</th>\n",
       "      <td>2 &lt;-&gt; 1</td>\n",
       "      <td>3</td>\n",
       "    </tr>\n",
       "    <tr>\n",
       "      <th>2</th>\n",
       "      <td>3 &lt;-&gt; 0</td>\n",
       "      <td>6</td>\n",
       "    </tr>\n",
       "    <tr>\n",
       "      <th>3</th>\n",
       "      <td>4 &lt;-&gt; 1</td>\n",
       "      <td>5</td>\n",
       "    </tr>\n",
       "  </tbody>\n",
       "</table>\n",
       "</div>"
      ],
      "text/plain": [
       "      edge  weight\n",
       "0  1 <-> 0       2\n",
       "1  2 <-> 1       3\n",
       "2  3 <-> 0       6\n",
       "3  4 <-> 1       5"
      ]
     },
     "execution_count": 77,
     "metadata": {},
     "output_type": "execute_result"
    }
   ],
   "source": [
    "import pandas as pd \n",
    "\n",
    "g = [ \n",
    "    [0, 2, 0, 6, 0], \n",
    "    [2, 0, 3, 8, 5], \n",
    "    [0, 3, 0, 0, 7], \n",
    "    [6, 8, 0, 0, 9], \n",
    "    [0, 5, 7, 9, 0]\n",
    "]\n",
    "\n",
    "mst =  mst_prim(g)\n",
    "\n",
    "pd.DataFrame({\n",
    "    'edge':   [ f\"{u} <-> {v}\" for u, v in mst ],\n",
    "    'weight': [ g[u][v] for u, v in mst ]\n",
    "})"
   ]
  },
  {
   "cell_type": "code",
   "execution_count": 78,
   "metadata": {},
   "outputs": [
    {
     "data": {
      "text/plain": [
       "16"
      ]
     },
     "execution_count": 78,
     "metadata": {},
     "output_type": "execute_result"
    }
   ],
   "source": [
    "sum([ g[u][v] for u, v in mst ])"
   ]
  },
  {
   "cell_type": "code",
   "execution_count": 79,
   "metadata": {},
   "outputs": [],
   "source": [
    "import numpy as np\n",
    "\n",
    "G = nx.from_numpy_matrix(np.array(g))"
   ]
  },
  {
   "cell_type": "code",
   "execution_count": 80,
   "metadata": {},
   "outputs": [
    {
     "data": {
      "image/png": "[encoded data removed]",
      "text/plain": [
       "<Figure size 432x288 with 1 Axes>"
      ]
     },
     "metadata": {},
     "output_type": "display_data"
    }
   ],
   "source": [
    "nx.draw(nx.from_edgelist(mst), with_labels=True)"
   ]
  }
 ],
 "metadata": {
  "kernelspec": {
   "display_name": "Python 3",
   "language": "python",
   "name": "python3"
  },
  "language_info": {
   "codemirror_mode": {
    "name": "ipython",
    "version": 3
   },
   "file_extension": ".py",
   "mimetype": "text/x-python",
   "name": "python",
   "nbconvert_exporter": "python",
   "pygments_lexer": "ipython3",
   "version": "3.7.3"
  }
 },
 "nbformat": 4,
 "nbformat_minor": 4
}
